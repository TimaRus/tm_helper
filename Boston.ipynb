{
  "cells": [
    {
      "cell_type": "markdown",
      "metadata": {
        "id": "view-in-github",
        "colab_type": "text"
      },
      "source": [
        "<a href=\"https://colab.research.google.com/github/TimaRus/tm_helper/blob/main/Boston.ipynb\" target=\"_parent\"><img src=\"https://colab.research.google.com/assets/colab-badge.svg\" alt=\"Open In Colab\"/></a>"
      ]
    },
    {
      "cell_type": "markdown",
      "metadata": {
        "id": "t4Mu_8EElGbl"
      },
      "source": [
        "### Предсказание средней (медианной) стоимости домов в районах Бостона\n",
        "\n",
        "Объект: район города Бостона\n",
        "\n",
        "Целевая переменная: средняя (медианная) стоимость домов\n",
        "\n",
        "Задача: предсказание целевой переменной по признакам объекта\n",
        "\n",
        "Тип задачи: регрессия\n",
        "    \n",
        "Мы построим линейную модель на этих данных, оценим качество предсказания и проанализируем полученные веса признаков.\n",
        "\n",
        "__Ваша задача:__ Наводите курсором по очереди на каждую ячейку с кодом и нажимайте кнопку Run слева от ячейки (круглая кнопка со значком ᐈ). В некоторых ячейках нужно вставить код: в этом случае Вы сначала вставляете фрагмент кода, затем нажимаете кнопку Run. __Очень важно__ нажать Run для __всех__ ячеек в порядке сверху вниз.\n",
        "\n",
        "Меткой __Задание__ помечены фрагменты, где Вам нужно вставить свой код. Меткой __Тест__ помечены фрагменты, про которые Вам нужно выбрать ответ в тесте.\n",
        "\n",
        "Некоторые ячейки печатают какой-то результат, а некоторые не печатают."
      ]
    },
    {
      "cell_type": "markdown",
      "metadata": {
        "id": "oENR6ja9lGbu"
      },
      "source": [
        "Загружаем данные:"
      ]
    },
    {
      "cell_type": "code",
      "execution_count": 1,
      "metadata": {
        "collapsed": true,
        "id": "Df0ThYW6lGbu"
      },
      "outputs": [],
      "source": [
        "from sklearn.datasets import load_boston"
      ]
    },
    {
      "cell_type": "code",
      "execution_count": 2,
      "metadata": {
        "collapsed": true,
        "id": "tW4FCqoklGbw",
        "outputId": "326202e5-9e42-4941-9273-da9a958cecde",
        "colab": {
          "base_uri": "https://localhost:8080/"
        }
      },
      "outputs": [
        {
          "output_type": "stream",
          "name": "stderr",
          "text": [
            "/usr/local/lib/python3.7/dist-packages/sklearn/utils/deprecation.py:87: FutureWarning: Function load_boston is deprecated; `load_boston` is deprecated in 1.0 and will be removed in 1.2.\n",
            "\n",
            "    The Boston housing prices dataset has an ethical problem. You can refer to\n",
            "    the documentation of this function for further details.\n",
            "\n",
            "    The scikit-learn maintainers therefore strongly discourage the use of this\n",
            "    dataset unless the purpose of the code is to study and educate about\n",
            "    ethical issues in data science and machine learning.\n",
            "\n",
            "    In this special case, you can fetch the dataset from the original\n",
            "    source::\n",
            "\n",
            "        import pandas as pd\n",
            "        import numpy as np\n",
            "\n",
            "\n",
            "        data_url = \"http://lib.stat.cmu.edu/datasets/boston\"\n",
            "        raw_df = pd.read_csv(data_url, sep=\"\\s+\", skiprows=22, header=None)\n",
            "        data = np.hstack([raw_df.values[::2, :], raw_df.values[1::2, :2]])\n",
            "        target = raw_df.values[1::2, 2]\n",
            "\n",
            "    Alternative datasets include the California housing dataset (i.e.\n",
            "    :func:`~sklearn.datasets.fetch_california_housing`) and the Ames housing\n",
            "    dataset. You can load the datasets as follows::\n",
            "\n",
            "        from sklearn.datasets import fetch_california_housing\n",
            "        housing = fetch_california_housing()\n",
            "\n",
            "    for the California housing dataset and::\n",
            "\n",
            "        from sklearn.datasets import fetch_openml\n",
            "        housing = fetch_openml(name=\"house_prices\", as_frame=True)\n",
            "\n",
            "    for the Ames housing dataset.\n",
            "    \n",
            "  warnings.warn(msg, category=FutureWarning)\n"
          ]
        }
      ],
      "source": [
        "boston_data = load_boston()"
      ]
    },
    {
      "cell_type": "code",
      "execution_count": 17,
      "metadata": {
        "collapsed": true,
        "id": "DF61Cz_tlGbw"
      },
      "outputs": [],
      "source": [
        "X = boston_data[\"data\"]\n",
        "y = boston_data[\"target\"]"
      ]
    },
    {
      "cell_type": "markdown",
      "metadata": {
        "id": "YwY1ixOGlGbx"
      },
      "source": [
        "X - таблица объектов и их признаков, y - целевые переменные.\n",
        "\n",
        "Посмотрим, сколько строк и сколько столбцов в таблице X (сначала выводится число строк, затем число столбцов):"
      ]
    },
    {
      "cell_type": "code",
      "execution_count": 18,
      "metadata": {
        "collapsed": true,
        "id": "R1Huo6iqlGbx",
        "outputId": "0ae3fb0b-9551-4e1c-f4b0-0bf853856c00",
        "colab": {
          "base_uri": "https://localhost:8080/"
        }
      },
      "outputs": [
        {
          "output_type": "execute_result",
          "data": {
            "text/plain": [
              "(506, 13)"
            ]
          },
          "metadata": {},
          "execution_count": 18
        }
      ],
      "source": [
        "X.shape"
      ]
    },
    {
      "cell_type": "markdown",
      "metadata": {
        "id": "9A_DJBs7lGby"
      },
      "source": [
        "Сколько элементов в y:"
      ]
    },
    {
      "cell_type": "code",
      "execution_count": 5,
      "metadata": {
        "collapsed": true,
        "id": "rz_0wOLclGbz",
        "outputId": "abab8f89-b482-41fc-b246-ccbffdcff2fd",
        "colab": {
          "base_uri": "https://localhost:8080/"
        }
      },
      "outputs": [
        {
          "output_type": "execute_result",
          "data": {
            "text/plain": [
              "(506,)"
            ]
          },
          "metadata": {},
          "execution_count": 5
        }
      ],
      "source": [
        "y.shape"
      ]
    },
    {
      "cell_type": "markdown",
      "metadata": {
        "id": "PGKsIRprlGbz"
      },
      "source": [
        "Разделим данные на обучающую и тестовую выборки:"
      ]
    },
    {
      "cell_type": "code",
      "execution_count": 6,
      "metadata": {
        "collapsed": true,
        "id": "hgGaw_e-lGb0"
      },
      "outputs": [],
      "source": [
        "from sklearn.model_selection import train_test_split"
      ]
    },
    {
      "cell_type": "code",
      "execution_count": 7,
      "metadata": {
        "collapsed": true,
        "id": "jIyLVkSnlGb0"
      },
      "outputs": [],
      "source": [
        "X_train, X_test, y_train, y_test = train_test_split(X, y)"
      ]
    },
    {
      "cell_type": "markdown",
      "metadata": {
        "id": "MZYreCKflGb1"
      },
      "source": [
        "__Задание+тест.__ Сколько объектов оказалось в обучающей выборке, а сколько в тестовой? Напишите код в каждую из двух ячеек ниже, нажмите Run для каждой ячейки и ответьте на вопрос теста.\n",
        "\n",
        "В первую ячейку впишите \n",
        "\n",
        "X_train.shape\n",
        "\n",
        "Во вторую ячейку впишите \n",
        "\n",
        "X_test.shape"
      ]
    },
    {
      "cell_type": "code",
      "execution_count": 19,
      "metadata": {
        "collapsed": true,
        "id": "eI9q2eo_lGb1",
        "outputId": "a3d99308-f694-4649-81ae-1f640cd8799b",
        "colab": {
          "base_uri": "https://localhost:8080/"
        }
      },
      "outputs": [
        {
          "output_type": "execute_result",
          "data": {
            "text/plain": [
              "(379, 13)"
            ]
          },
          "metadata": {},
          "execution_count": 19
        }
      ],
      "source": [
        "X_train.shape"
      ]
    },
    {
      "cell_type": "code",
      "execution_count": 20,
      "metadata": {
        "collapsed": true,
        "id": "UuNvb6dOlGb1",
        "outputId": "fc94d2a2-3cef-4e74-84de-8aeb62b0303a",
        "colab": {
          "base_uri": "https://localhost:8080/"
        }
      },
      "outputs": [
        {
          "output_type": "execute_result",
          "data": {
            "text/plain": [
              "(127, 13)"
            ]
          },
          "metadata": {},
          "execution_count": 20
        }
      ],
      "source": [
        "X_test.shape"
      ]
    },
    {
      "cell_type": "markdown",
      "metadata": {
        "id": "yEl_Q5HolGb2"
      },
      "source": [
        "Перед обучением модели нормируем данные (чтобы все признаки имели одинаковый масштаб):"
      ]
    },
    {
      "cell_type": "code",
      "execution_count": 8,
      "metadata": {
        "collapsed": true,
        "id": "zGE-1xrslGb2"
      },
      "outputs": [],
      "source": [
        "from sklearn.preprocessing import MinMaxScaler"
      ]
    },
    {
      "cell_type": "code",
      "execution_count": 9,
      "metadata": {
        "collapsed": true,
        "id": "yXziSeExlGb2"
      },
      "outputs": [],
      "source": [
        "scaler = MinMaxScaler()\n",
        "X_train = scaler.fit_transform(X_train)\n",
        "X_test = scaler.transform(X_test)"
      ]
    },
    {
      "cell_type": "code",
      "execution_count": 10,
      "metadata": {
        "collapsed": true,
        "id": "h15Jsbf3lGb3"
      },
      "outputs": [],
      "source": [
        "from sklearn.linear_model import LinearRegression"
      ]
    },
    {
      "cell_type": "markdown",
      "metadata": {
        "id": "ppp3aw9PlGb3"
      },
      "source": [
        "__Задание.__ Обучите модель линейной регрессии. Для обучения нам понадобятся признаки и значения целевых переменных на _обучающей_ выборке: X_train и y_train. Напишите команду \n",
        "\n",
        "model.fit(X_train, y_train)\n",
        "\n",
        "в последней строчке ячейки ниже:"
      ]
    },
    {
      "cell_type": "code",
      "execution_count": 21,
      "metadata": {
        "collapsed": true,
        "id": "Rth16HhblGb3",
        "outputId": "4dfb0c1c-b368-4b29-9691-e8058928145c",
        "colab": {
          "base_uri": "https://localhost:8080/"
        }
      },
      "outputs": [
        {
          "output_type": "execute_result",
          "data": {
            "text/plain": [
              "LinearRegression()"
            ]
          },
          "metadata": {},
          "execution_count": 21
        }
      ],
      "source": [
        "model = LinearRegression()\n",
        "model.fit(X_train, y_train)"
      ]
    },
    {
      "cell_type": "markdown",
      "metadata": {
        "id": "p7TF2ATUlGb3"
      },
      "source": [
        "Выполним предсказания с помощью обученной модели для объектов тестовой выборки (понадобятся только _признаки_ для тестовой выборки):"
      ]
    },
    {
      "cell_type": "code",
      "execution_count": 22,
      "metadata": {
        "collapsed": true,
        "id": "4NRk1qA3lGb4"
      },
      "outputs": [],
      "source": [
        "predictions_test = model.predict(X_test)"
      ]
    },
    {
      "cell_type": "markdown",
      "metadata": {
        "id": "0lk-cRL4lGb4"
      },
      "source": [
        "Оценим среднюю ошибку предсказаний (понадобятся предсказания и значения целевых переменных для _тестовой_ выборки):"
      ]
    },
    {
      "cell_type": "code",
      "execution_count": 23,
      "metadata": {
        "collapsed": true,
        "id": "Y-KAxVuWlGb5"
      },
      "outputs": [],
      "source": [
        "from sklearn.metrics import mean_absolute_error"
      ]
    },
    {
      "cell_type": "code",
      "execution_count": 24,
      "metadata": {
        "collapsed": true,
        "id": "0nbKONYClGb6",
        "outputId": "9b5f6f5f-cec0-4654-d900-2da6ac9629d7",
        "colab": {
          "base_uri": "https://localhost:8080/"
        }
      },
      "outputs": [
        {
          "output_type": "execute_result",
          "data": {
            "text/plain": [
              "3.1840231816026474"
            ]
          },
          "metadata": {},
          "execution_count": 24
        }
      ],
      "source": [
        "mean_absolute_error(y_test, predictions_test)"
      ]
    },
    {
      "cell_type": "markdown",
      "metadata": {
        "id": "GLlX2fj4lGb6"
      },
      "source": [
        "__Тест:__ Ответьте в тесте, в каких границах оказалось полученное значение ошибки.\n",
        "\n",
        "Величина, которую мы предсказываем, измеряется в десятках, так что полученное значение средней ошибки - вполне хороший результат!"
      ]
    },
    {
      "cell_type": "markdown",
      "metadata": {
        "id": "79Rs889vlGb7"
      },
      "source": [
        "Выведем получившиеся веса для всех признаков, отсортировав признаки в порядке возрастания веса:"
      ]
    },
    {
      "cell_type": "code",
      "execution_count": 25,
      "metadata": {
        "collapsed": true,
        "id": "iXl2LvUqlGb7"
      },
      "outputs": [],
      "source": [
        "import pandas"
      ]
    },
    {
      "cell_type": "code",
      "execution_count": 26,
      "metadata": {
        "collapsed": true,
        "id": "8vKzJfeqlGb8",
        "outputId": "a11f1eb9-02f7-4702-aea9-049ada7c2e74",
        "colab": {
          "base_uri": "https://localhost:8080/",
          "height": 457
        }
      },
      "outputs": [
        {
          "output_type": "execute_result",
          "data": {
            "text/plain": [
              "         веса признаки\n",
              "12 -20.051026    LSTAT\n",
              "7  -14.315843      DIS\n",
              "4  -10.159452      NOX\n",
              "10  -9.071486  PTRATIO\n",
              "0   -7.137337     CRIM\n",
              "9   -5.218271      TAX\n",
              "2   -0.157242    INDUS\n",
              "6    0.692363      AGE\n",
              "11   2.573328        B\n",
              "3    2.913842     CHAS\n",
              "1    3.685753       ZN\n",
              "8    6.327225      RAD\n",
              "5   16.148322       RM"
            ],
            "text/html": [
              "\n",
              "  <div id=\"df-fb86c7ea-85a1-4eec-8c03-475a417a3e36\">\n",
              "    <div class=\"colab-df-container\">\n",
              "      <div>\n",
              "<style scoped>\n",
              "    .dataframe tbody tr th:only-of-type {\n",
              "        vertical-align: middle;\n",
              "    }\n",
              "\n",
              "    .dataframe tbody tr th {\n",
              "        vertical-align: top;\n",
              "    }\n",
              "\n",
              "    .dataframe thead th {\n",
              "        text-align: right;\n",
              "    }\n",
              "</style>\n",
              "<table border=\"1\" class=\"dataframe\">\n",
              "  <thead>\n",
              "    <tr style=\"text-align: right;\">\n",
              "      <th></th>\n",
              "      <th>веса</th>\n",
              "      <th>признаки</th>\n",
              "    </tr>\n",
              "  </thead>\n",
              "  <tbody>\n",
              "    <tr>\n",
              "      <th>12</th>\n",
              "      <td>-20.051026</td>\n",
              "      <td>LSTAT</td>\n",
              "    </tr>\n",
              "    <tr>\n",
              "      <th>7</th>\n",
              "      <td>-14.315843</td>\n",
              "      <td>DIS</td>\n",
              "    </tr>\n",
              "    <tr>\n",
              "      <th>4</th>\n",
              "      <td>-10.159452</td>\n",
              "      <td>NOX</td>\n",
              "    </tr>\n",
              "    <tr>\n",
              "      <th>10</th>\n",
              "      <td>-9.071486</td>\n",
              "      <td>PTRATIO</td>\n",
              "    </tr>\n",
              "    <tr>\n",
              "      <th>0</th>\n",
              "      <td>-7.137337</td>\n",
              "      <td>CRIM</td>\n",
              "    </tr>\n",
              "    <tr>\n",
              "      <th>9</th>\n",
              "      <td>-5.218271</td>\n",
              "      <td>TAX</td>\n",
              "    </tr>\n",
              "    <tr>\n",
              "      <th>2</th>\n",
              "      <td>-0.157242</td>\n",
              "      <td>INDUS</td>\n",
              "    </tr>\n",
              "    <tr>\n",
              "      <th>6</th>\n",
              "      <td>0.692363</td>\n",
              "      <td>AGE</td>\n",
              "    </tr>\n",
              "    <tr>\n",
              "      <th>11</th>\n",
              "      <td>2.573328</td>\n",
              "      <td>B</td>\n",
              "    </tr>\n",
              "    <tr>\n",
              "      <th>3</th>\n",
              "      <td>2.913842</td>\n",
              "      <td>CHAS</td>\n",
              "    </tr>\n",
              "    <tr>\n",
              "      <th>1</th>\n",
              "      <td>3.685753</td>\n",
              "      <td>ZN</td>\n",
              "    </tr>\n",
              "    <tr>\n",
              "      <th>8</th>\n",
              "      <td>6.327225</td>\n",
              "      <td>RAD</td>\n",
              "    </tr>\n",
              "    <tr>\n",
              "      <th>5</th>\n",
              "      <td>16.148322</td>\n",
              "      <td>RM</td>\n",
              "    </tr>\n",
              "  </tbody>\n",
              "</table>\n",
              "</div>\n",
              "      <button class=\"colab-df-convert\" onclick=\"convertToInteractive('df-fb86c7ea-85a1-4eec-8c03-475a417a3e36')\"\n",
              "              title=\"Convert this dataframe to an interactive table.\"\n",
              "              style=\"display:none;\">\n",
              "        \n",
              "  <svg xmlns=\"http://www.w3.org/2000/svg\" height=\"24px\"viewBox=\"0 0 24 24\"\n",
              "       width=\"24px\">\n",
              "    <path d=\"M0 0h24v24H0V0z\" fill=\"none\"/>\n",
              "    <path d=\"M18.56 5.44l.94 2.06.94-2.06 2.06-.94-2.06-.94-.94-2.06-.94 2.06-2.06.94zm-11 1L8.5 8.5l.94-2.06 2.06-.94-2.06-.94L8.5 2.5l-.94 2.06-2.06.94zm10 10l.94 2.06.94-2.06 2.06-.94-2.06-.94-.94-2.06-.94 2.06-2.06.94z\"/><path d=\"M17.41 7.96l-1.37-1.37c-.4-.4-.92-.59-1.43-.59-.52 0-1.04.2-1.43.59L10.3 9.45l-7.72 7.72c-.78.78-.78 2.05 0 2.83L4 21.41c.39.39.9.59 1.41.59.51 0 1.02-.2 1.41-.59l7.78-7.78 2.81-2.81c.8-.78.8-2.07 0-2.86zM5.41 20L4 18.59l7.72-7.72 1.47 1.35L5.41 20z\"/>\n",
              "  </svg>\n",
              "      </button>\n",
              "      \n",
              "  <style>\n",
              "    .colab-df-container {\n",
              "      display:flex;\n",
              "      flex-wrap:wrap;\n",
              "      gap: 12px;\n",
              "    }\n",
              "\n",
              "    .colab-df-convert {\n",
              "      background-color: #E8F0FE;\n",
              "      border: none;\n",
              "      border-radius: 50%;\n",
              "      cursor: pointer;\n",
              "      display: none;\n",
              "      fill: #1967D2;\n",
              "      height: 32px;\n",
              "      padding: 0 0 0 0;\n",
              "      width: 32px;\n",
              "    }\n",
              "\n",
              "    .colab-df-convert:hover {\n",
              "      background-color: #E2EBFA;\n",
              "      box-shadow: 0px 1px 2px rgba(60, 64, 67, 0.3), 0px 1px 3px 1px rgba(60, 64, 67, 0.15);\n",
              "      fill: #174EA6;\n",
              "    }\n",
              "\n",
              "    [theme=dark] .colab-df-convert {\n",
              "      background-color: #3B4455;\n",
              "      fill: #D2E3FC;\n",
              "    }\n",
              "\n",
              "    [theme=dark] .colab-df-convert:hover {\n",
              "      background-color: #434B5C;\n",
              "      box-shadow: 0px 1px 3px 1px rgba(0, 0, 0, 0.15);\n",
              "      filter: drop-shadow(0px 1px 2px rgba(0, 0, 0, 0.3));\n",
              "      fill: #FFFFFF;\n",
              "    }\n",
              "  </style>\n",
              "\n",
              "      <script>\n",
              "        const buttonEl =\n",
              "          document.querySelector('#df-fb86c7ea-85a1-4eec-8c03-475a417a3e36 button.colab-df-convert');\n",
              "        buttonEl.style.display =\n",
              "          google.colab.kernel.accessAllowed ? 'block' : 'none';\n",
              "\n",
              "        async function convertToInteractive(key) {\n",
              "          const element = document.querySelector('#df-fb86c7ea-85a1-4eec-8c03-475a417a3e36');\n",
              "          const dataTable =\n",
              "            await google.colab.kernel.invokeFunction('convertToInteractive',\n",
              "                                                     [key], {});\n",
              "          if (!dataTable) return;\n",
              "\n",
              "          const docLinkHtml = 'Like what you see? Visit the ' +\n",
              "            '<a target=\"_blank\" href=https://colab.research.google.com/notebooks/data_table.ipynb>data table notebook</a>'\n",
              "            + ' to learn more about interactive tables.';\n",
              "          element.innerHTML = '';\n",
              "          dataTable['output_type'] = 'display_data';\n",
              "          await google.colab.output.renderOutput(dataTable, element);\n",
              "          const docLink = document.createElement('div');\n",
              "          docLink.innerHTML = docLinkHtml;\n",
              "          element.appendChild(docLink);\n",
              "        }\n",
              "      </script>\n",
              "    </div>\n",
              "  </div>\n",
              "  "
            ]
          },
          "metadata": {},
          "execution_count": 26
        }
      ],
      "source": [
        "weights = pandas.DataFrame({\"веса\":model.coef_,\\\n",
        "                        \"признаки\": boston_data[\"feature_names\"]})\n",
        "weights.sort_values(\"веса\")"
      ]
    },
    {
      "cell_type": "markdown",
      "metadata": {
        "id": "_eoLr9ZClGb8"
      },
      "source": [
        "Описание признаков (напоминаем, что один объект - это район города Бостона):\n",
        "\n",
        "- CRIM: Уровень преступности на душу населения\n",
        "- ZN: доля земли под жилую застройку, зонированной на участки площадью более 25 000 кв. Футов.\n",
        "- INDUS: доля акров, не относящихся к розничной торговле\n",
        "- CHAS: 1, если участок ограничивает реку; 0 в противном случае\n",
        "- NOX: Концентрация оксидов азота (частей на 10 миллионов)\n",
        "- RM: Среднее количество комнат в доме\n",
        "- AGE: доля домов, занимаемых владельцами, построенных до 1940 г.\n",
        "- DIS: взвешенные расстояния до пяти бостонских центров занятости\n",
        "- LSTAT: процент низкообеспеченного населения  в районе\n",
        "- RAD: Индекс доступности радиальных автомобильных дорог \n",
        "- TAX: Ставка налога на имущество в размере полной стоимости за 10 000 долларов США.\n",
        "- PTRATIO Соотношение учеников и учителей\n",
        "- B: 1000 (Bk - 0,63) ^ 2, где Bk - доля чернокожих\n",
        "- MEDV: Средняя стоимость частных домов в тысячах долларов\n",
        "\n",
        "В напечатанной таблице отображается, какой вклад в предсказанную стоимость носит каждая единица каждого признака. Например, для признака RM отображается, какую стоимость добавляет каждая комната в доме. Проанализируйте полученные веса: логично ли определились знаки признаков (увеличивает или уменьшает предсказание каждый признак)?\n",
        "\n",
        "__Тест:__ Найдите в таблице с весами признак, соответствующий проценту низкообеспеченного населения в районе. Если значение этого процента велико, будет ли предсказываться высокая средняя стоимость домов или низкая? Логичен ли такой результат?"
      ]
    }
  ],
  "metadata": {
    "kernelspec": {
      "display_name": "Python 3",
      "language": "python",
      "name": "python3"
    },
    "language_info": {
      "codemirror_mode": {
        "name": "ipython",
        "version": 3
      },
      "file_extension": ".py",
      "mimetype": "text/x-python",
      "name": "python",
      "nbconvert_exporter": "python",
      "pygments_lexer": "ipython3",
      "version": "3.6.3"
    },
    "colab": {
      "name": "Boston.ipynb",
      "provenance": [],
      "include_colab_link": true
    }
  },
  "nbformat": 4,
  "nbformat_minor": 0
}